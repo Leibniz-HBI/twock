{
 "cells": [
  {
   "cell_type": "code",
   "execution_count": 2,
   "id": "subsequent-proceeding",
   "metadata": {},
   "outputs": [],
   "source": [
    "from twarc import Twarc2"
   ]
  },
  {
   "cell_type": "code",
   "execution_count": 5,
   "id": "ea076f0e-8d61-4ebd-9320-4d5ae8df9d8e",
   "metadata": {},
   "outputs": [],
   "source": [
    "import yaml"
   ]
  },
  {
   "cell_type": "code",
   "execution_count": 6,
   "id": "7b911b12-1668-43ea-b9d7-77c7579d8bed",
   "metadata": {},
   "outputs": [],
   "source": [
    "with open('../bearer_token.yaml') as f:\n",
    "    bearer_token = yaml.safe_load(f)['bearer_token']"
   ]
  },
  {
   "cell_type": "code",
   "execution_count": 8,
   "id": "5bb9e0c9-ee4c-4b5b-904b-b480744fa27f",
   "metadata": {},
   "outputs": [],
   "source": [
    "import pandas as pd"
   ]
  },
  {
   "cell_type": "code",
   "execution_count": 14,
   "id": "b2f002a3-9753-453d-b7a5-37daf9131959",
   "metadata": {},
   "outputs": [],
   "source": [
    "tweets = pd.read_csv('../test_data/twacapic-parliamentarians-tryout.csv', engine='python', dtype=str)"
   ]
  },
  {
   "cell_type": "code",
   "execution_count": 16,
   "id": "9ac9925a-f321-4b9c-8ef6-080a1dd4f313",
   "metadata": {},
   "outputs": [],
   "source": [
    "ids = tweets['id']"
   ]
  },
  {
   "cell_type": "code",
   "execution_count": 17,
   "id": "b71049e8-e1c3-4ffd-b1b4-c90943ba1ebe",
   "metadata": {},
   "outputs": [
    {
     "data": {
      "text/plain": [
       "0         1408766774598942720\n",
       "1         1408764816894873601\n",
       "2         1379454336170926084\n",
       "3         1378047272634703874\n",
       "4         1411421916095827976\n",
       "                 ...         \n",
       "357094    1387160260893462528\n",
       "357095    1403991909190733825\n",
       "357096    1380088206931202048\n",
       "357097    1384751733637849088\n",
       "357098    1380423504110219264\n",
       "Name: id, Length: 357099, dtype: object"
      ]
     },
     "execution_count": 17,
     "metadata": {},
     "output_type": "execute_result"
    }
   ],
   "source": [
    "ids"
   ]
  },
  {
   "cell_type": "code",
   "execution_count": 50,
   "id": "e33a7666-37b9-421b-bb9b-51f1e680acfc",
   "metadata": {},
   "outputs": [
    {
     "data": {
      "text/plain": [
       "133071    1396496915924140037\n",
       "165979    1393558562006355970\n",
       "9100      1388812025065836544\n",
       "138660    1357696050853801988\n",
       "333976    1384209498001219585\n",
       "                 ...         \n",
       "127548    1415326041862770692\n",
       "347294     879756341191028739\n",
       "204300    1123543883223379968\n",
       "92225     1364921905413816320\n",
       "202846    1382337118823923712\n",
       "Name: id, Length: 1000, dtype: object"
      ]
     },
     "execution_count": 50,
     "metadata": {},
     "output_type": "execute_result"
    }
   ],
   "source": [
    "test_ids = ids.sample(1000)\n",
    "test_ids"
   ]
  },
  {
   "cell_type": "code",
   "execution_count": 51,
   "id": "express-activation",
   "metadata": {},
   "outputs": [],
   "source": [
    "t = Twarc2(bearer_token=bearer_token, connection_errors=1)"
   ]
  },
  {
   "cell_type": "code",
   "execution_count": 52,
   "id": "0931ca3a-5243-47b5-b55c-d56e4463cbae",
   "metadata": {},
   "outputs": [],
   "source": [
    "lookup = t.tweet_lookup(test_ids.values)"
   ]
  },
  {
   "cell_type": "code",
   "execution_count": 53,
   "id": "f3261902-2766-49d9-8948-94e42aaec194",
   "metadata": {},
   "outputs": [],
   "source": [
    "result = [page for page in lookup]"
   ]
  },
  {
   "cell_type": "code",
   "execution_count": 54,
   "id": "f9bf9c91-3f71-41d2-8b82-d2bbb00d67ee",
   "metadata": {},
   "outputs": [
    {
     "data": {
      "text/plain": [
       "10"
      ]
     },
     "execution_count": 54,
     "metadata": {},
     "output_type": "execute_result"
    }
   ],
   "source": [
    "len(result)"
   ]
  },
  {
   "cell_type": "code",
   "execution_count": 56,
   "id": "9839aaf8-fd54-4a0b-a20b-198e95c07441",
   "metadata": {},
   "outputs": [],
   "source": [
    "errors = list()\n",
    "\n",
    "for page in result:\n",
    "    page_length = len(page['data'])\n",
    "    if page_length != 100:\n",
    "        assert 'errors' in page.keys()\n",
    "        n = 0\n",
    "        for error in page['errors']:\n",
    "            if error['parameter'] == 'ids' and error['resource_type'] == 'tweet':\n",
    "                assert error['value'] in test_ids.values\n",
    "                errors.append(error)\n",
    "                n += 1\n",
    "        assert page_length == 100 - n\n",
    "            "
   ]
  },
  {
   "cell_type": "code",
   "execution_count": 57,
   "id": "da1f4a4a-95b5-42ae-9b35-0635df7f74f7",
   "metadata": {},
   "outputs": [],
   "source": [
    "import ndjson"
   ]
  },
  {
   "cell_type": "code",
   "execution_count": 59,
   "id": "ccf17e74-f3e7-40a0-8aca-2ea90bd2af44",
   "metadata": {},
   "outputs": [],
   "source": [
    "with open('deleted_tweets.ndjson', 'w') as f:\n",
    "    ndjson.dump(errors, f)"
   ]
  }
 ],
 "metadata": {
  "kernelspec": {
   "display_name": "Python 3 (ipykernel)",
   "language": "python",
   "name": "python3"
  },
  "language_info": {
   "codemirror_mode": {
    "name": "ipython",
    "version": 3
   },
   "file_extension": ".py",
   "mimetype": "text/x-python",
   "name": "python",
   "nbconvert_exporter": "python",
   "pygments_lexer": "ipython3",
   "version": "3.9.6"
  }
 },
 "nbformat": 4,
 "nbformat_minor": 5
}
